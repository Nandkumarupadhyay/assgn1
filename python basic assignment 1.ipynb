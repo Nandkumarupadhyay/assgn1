{
 "cells": [
  {
   "cell_type": "markdown",
   "metadata": {},
   "source": [
    "# Q1- Ans.\n",
    "\n",
    " * -is expression.\n",
    " \n",
    "\n",
    " hello- is value.\n",
    "\n",
    " -87.8 -is value.\n",
    "\n",
    " - is expression.\n",
    "\n",
    " / -is expression.\n",
    "\n",
    " + -is exression.\n",
    "\n",
    " 6 -is value."
   ]
  },
  {
   "cell_type": "markdown",
   "metadata": {},
   "source": [
    "# Q2. Ans.\n",
    "String can be a text string example- \"hello\".\n",
    "\n",
    "variable canbe abything that can store any data, even it can store string,int ,float etc.."
   ]
  },
  {
   "cell_type": "markdown",
   "metadata": {},
   "source": [
    "# Q3. Ans.\n",
    "\n",
    "Datatypes in Python.\n",
    "\n",
    "1) string.- string is immutable\n",
    "\n",
    "2)list.- list is mutable\n",
    "\n",
    "3)tuple.\n",
    "\n",
    "4)Set.-{}\n",
    "\n",
    "5) Dictionary-  {key:value} is the structure type of dictionary.in dictionary it consists of key and values. if same name of key are there it take its updated value.special charachter can not be the values.\n"
   ]
  },
  {
   "cell_type": "markdown",
   "metadata": {},
   "source": [
    "# Q4- Ans\n",
    "expression is usually a mathematical operation. ex , -,*,%,+"
   ]
  },
  {
   "cell_type": "markdown",
   "metadata": {},
   "source": [
    "# Q5- Ans\n",
    "epxpression indicates us to do mathematical operations, & staements means we have been given some values or statement from the question."
   ]
  },
  {
   "cell_type": "markdown",
   "metadata": {},
   "source": [
    "# Q6-Ans\n",
    "bacon=22\n",
    "bacon=bacon+1\n",
    "the new valueof bacon will be 23"
   ]
  },
  {
   "cell_type": "markdown",
   "metadata": {},
   "source": [
    "# Q7-Ans\n",
    "'spam+'spamspam'= 'spamspamspam',\n",
    "'spam'*3= 'spamspamspam'"
   ]
  },
  {
   "cell_type": "markdown",
   "metadata": {},
   "source": [
    "# Q8-Ans\n",
    "eggs canbe valid variable because words, alphabets can be valid variable.\n",
    "and 100 is not valid variable beacuse integer can not be variable."
   ]
  },
  {
   "cell_type": "markdown",
   "metadata": {},
   "source": [
    "# Q9-Ans\n",
    "three function can be\n",
    "\n",
    "int()= for integer,\n",
    "\n",
    "float()= for floating,\n",
    "\n",
    "string()= for string,"
   ]
  },
  {
   "cell_type": "markdown",
   "metadata": {},
   "source": [
    "# Q10-Ans\n",
    "the question can be fixed as\n",
    "\n",
    "'i have eaten'+'99'+'burritos'"
   ]
  }
 ],
 "metadata": {
  "kernelspec": {
   "display_name": "Python 3",
   "language": "python",
   "name": "python3"
  },
  "language_info": {
   "codemirror_mode": {
    "name": "ipython",
    "version": 3
   },
   "file_extension": ".py",
   "mimetype": "text/x-python",
   "name": "python",
   "nbconvert_exporter": "python",
   "pygments_lexer": "ipython3",
   "version": "3.8.5"
  }
 },
 "nbformat": 4,
 "nbformat_minor": 4
}
