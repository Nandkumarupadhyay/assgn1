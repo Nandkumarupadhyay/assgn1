{
 "cells": [
  {
   "cell_type": "markdown",
   "metadata": {},
   "source": [
    "# WRITE A PROGRAMME TO CONVERT  KILOMETER TO MILES"
   ]
  },
  {
   "cell_type": "code",
   "execution_count": 40,
   "metadata": {},
   "outputs": [
    {
     "name": "stdout",
     "output_type": "stream",
     "text": [
      "enter a number5.6\n",
      "3.4796776\n"
     ]
    }
   ],
   "source": [
    "KM=float(input(\"enter a number\"))\n",
    "factor=0.621371\n",
    "c=KM*factor\n",
    "print(c)"
   ]
  },
  {
   "cell_type": "code",
   "execution_count": 41,
   "metadata": {},
   "outputs": [
    {
     "data": {
      "text/plain": [
       "3.4796776"
      ]
     },
     "execution_count": 41,
     "metadata": {},
     "output_type": "execute_result"
    }
   ],
   "source": [
    "c"
   ]
  },
  {
   "cell_type": "code",
   "execution_count": 13,
   "metadata": {},
   "outputs": [],
   "source": [
    "def kltoml(a):\n",
    "    return(a*0.62171)"
   ]
  },
  {
   "cell_type": "code",
   "execution_count": 34,
   "metadata": {},
   "outputs": [
    {
     "data": {
      "text/plain": [
       "1.86513"
      ]
     },
     "execution_count": 34,
     "metadata": {},
     "output_type": "execute_result"
    }
   ],
   "source": [
    "kltoml(3)"
   ]
  },
  {
   "cell_type": "markdown",
   "metadata": {},
   "source": [
    "# WRITE A PROGRAMME TO CONVERT  CELSIUS TO FAHRENHEIT"
   ]
  },
  {
   "cell_type": "code",
   "execution_count": 21,
   "metadata": {},
   "outputs": [],
   "source": [
    "def ctof(b):\n",
    "    return ((b*9/5)+32)"
   ]
  },
  {
   "cell_type": "code",
   "execution_count": 26,
   "metadata": {},
   "outputs": [
    {
     "data": {
      "text/plain": [
       "35.6"
      ]
     },
     "execution_count": 26,
     "metadata": {},
     "output_type": "execute_result"
    }
   ],
   "source": [
    "ctof(2)"
   ]
  },
  {
   "cell_type": "code",
   "execution_count": 71,
   "metadata": {},
   "outputs": [
    {
     "name": "stdout",
     "output_type": "stream",
     "text": [
      "enter a year2300\n",
      "it is not a leap year\n"
     ]
    }
   ],
   "source": [
    "year=int(input(\"enter a year\"))\n",
    "if year%4==0 and year%100!=0:\n",
    "         print(\"it is leap year\")\n",
    "\n",
    "elif year % 400==0:\n",
    "         print(\"it is leap year\")\n",
    "else:\n",
    "         print(\"it is not a leap year\")       "
   ]
  },
  {
   "cell_type": "markdown",
   "metadata": {},
   "source": [
    "# WRITE A PROGRAMME TO DISPLAY  A CALENDER\n"
   ]
  },
  {
   "cell_type": "code",
   "execution_count": 74,
   "metadata": {},
   "outputs": [
    {
     "name": "stdout",
     "output_type": "stream",
     "text": [
      "enter a year 2012\n",
      "enter a month12\n",
      "   December 2012\n",
      "Mo Tu We Th Fr Sa Su\n",
      "                1  2\n",
      " 3  4  5  6  7  8  9\n",
      "10 11 12 13 14 15 16\n",
      "17 18 19 20 21 22 23\n",
      "24 25 26 27 28 29 30\n",
      "31\n",
      "\n"
     ]
    }
   ],
   "source": [
    "import calendar\n",
    "year=int(input(\"enter a year\"))\n",
    "month=int(input(\"enter a month\"))\n",
    "print(calendar.month(year,month))"
   ]
  },
  {
   "cell_type": "markdown",
   "metadata": {},
   "source": [
    "# WRITE A PROGRAMME TO SOLVE A QUADRATC EQUATION"
   ]
  },
  {
   "cell_type": "code",
   "execution_count": 107,
   "metadata": {},
   "outputs": [
    {
     "name": "stdout",
     "output_type": "stream",
     "text": [
      "1\n",
      "6\n",
      "5\n",
      "-1.0\n"
     ]
    }
   ],
   "source": [
    "a=float(input())\n",
    "b=float(input())\n",
    "c=float(input())\n",
    "d=(b**2-4*a*c)**0.5\n",
    "e=b**2-4*a*c\n",
    "if e>0:\n",
    "    c=(-b+d)/2*a\n",
    "else:\n",
    "    c=(-b-d)/2*a\n",
    "print(c)"
   ]
  },
  {
   "cell_type": "markdown",
   "metadata": {},
   "source": [
    "# SWAP TWO VARIABLES2"
   ]
  },
  {
   "cell_type": "code",
   "execution_count": 90,
   "metadata": {},
   "outputs": [
    {
     "name": "stdout",
     "output_type": "stream",
     "text": [
      "enter number 1 867\n",
      "enter number 2 678.324\n",
      "before swaping numbers are a=867.0,b=678.324\n",
      "before swaping numbers are a=678.324,b=867.0\n"
     ]
    }
   ],
   "source": [
    "a=float(input(\"enter number 1\"))\n",
    "b=float(input(\"enter number 2\"))\n",
    "print(\"before swaping numbers are a={},b={}\".format(a,b))\n",
    "a,b=b,a\n",
    "print(\"before swaping numbers are a={},b={}\".format(a,b))"
   ]
  },
  {
   "cell_type": "code",
   "execution_count": null,
   "metadata": {},
   "outputs": [],
   "source": []
  }
 ],
 "metadata": {
  "kernelspec": {
   "display_name": "Python 3",
   "language": "python",
   "name": "python3"
  },
  "language_info": {
   "codemirror_mode": {
    "name": "ipython",
    "version": 3
   },
   "file_extension": ".py",
   "mimetype": "text/x-python",
   "name": "python",
   "nbconvert_exporter": "python",
   "pygments_lexer": "ipython3",
   "version": "3.8.5"
  }
 },
 "nbformat": 4,
 "nbformat_minor": 4
}
